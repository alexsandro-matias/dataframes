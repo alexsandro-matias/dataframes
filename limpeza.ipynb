{
  "nbformat": 4,
  "nbformat_minor": 0,
  "metadata": {
    "colab": {
      "name": "limpeza.ipynb",
      "provenance": [],
      "include_colab_link": true
    },
    "kernelspec": {
      "name": "python3",
      "display_name": "Python 3"
    },
    "language_info": {
      "name": "python"
    },
    "accelerator": "GPU"
  },
  "cells": [
    {
      "cell_type": "markdown",
      "metadata": {
        "id": "view-in-github",
        "colab_type": "text"
      },
      "source": [
        "<a href=\"https://colab.research.google.com/github/alexsandro-matias/dataframes/blob/main/limpeza.ipynb\" target=\"_parent\"><img src=\"https://colab.research.google.com/assets/colab-badge.svg\" alt=\"Open In Colab\"/></a>"
      ]
    },
    {
      "cell_type": "code",
      "metadata": {
        "id": "tzH3UYI-LP1q"
      },
      "source": [
        "import pandas as pd\n",
        "\n",
        "df = pd.read_csv(\"ocorrencia_2010_2020.csv\", sep=';')"
      ],
      "execution_count": 1,
      "outputs": []
    },
    {
      "cell_type": "code",
      "metadata": {
        "colab": {
          "base_uri": "https://localhost:8080/",
          "height": 473
        },
        "id": "d5RpyV_fLr1G",
        "outputId": "b0307f19-b9c4-416b-978e-41d1b09ee70c"
      },
      "source": [
        "df"
      ],
      "execution_count": null,
      "outputs": [
        {
          "output_type": "execute_result",
          "data": {
            "text/html": [
              "<div>\n",
              "<style scoped>\n",
              "    .dataframe tbody tr th:only-of-type {\n",
              "        vertical-align: middle;\n",
              "    }\n",
              "\n",
              "    .dataframe tbody tr th {\n",
              "        vertical-align: top;\n",
              "    }\n",
              "\n",
              "    .dataframe thead th {\n",
              "        text-align: right;\n",
              "    }\n",
              "</style>\n",
              "<table border=\"1\" class=\"dataframe\">\n",
              "  <thead>\n",
              "    <tr style=\"text-align: right;\">\n",
              "      <th></th>\n",
              "      <th>codigo_ocorrencia</th>\n",
              "      <th>codigo_ocorrencia2</th>\n",
              "      <th>ocorrencia_classificacao</th>\n",
              "      <th>ocorrencia_cidade</th>\n",
              "      <th>ocorrencia_uf</th>\n",
              "      <th>ocorrencia_aerodromo</th>\n",
              "      <th>ocorrencia_dia</th>\n",
              "      <th>ocorrencia_hora</th>\n",
              "      <th>total_recomendacoes</th>\n",
              "    </tr>\n",
              "  </thead>\n",
              "  <tbody>\n",
              "    <tr>\n",
              "      <th>0</th>\n",
              "      <td>40211</td>\n",
              "      <td>40211</td>\n",
              "      <td>INCIDENTE</td>\n",
              "      <td>RIO DE JANEIRO</td>\n",
              "      <td>RJ</td>\n",
              "      <td>****</td>\n",
              "      <td>03/01/2010</td>\n",
              "      <td>12:00:00</td>\n",
              "      <td>0</td>\n",
              "    </tr>\n",
              "    <tr>\n",
              "      <th>1</th>\n",
              "      <td>40349</td>\n",
              "      <td>40349</td>\n",
              "      <td>INCIDENTE</td>\n",
              "      <td>BELÉM</td>\n",
              "      <td>PA</td>\n",
              "      <td>SBBE</td>\n",
              "      <td>03/01/2010</td>\n",
              "      <td>11:05:00</td>\n",
              "      <td>0</td>\n",
              "    </tr>\n",
              "    <tr>\n",
              "      <th>2</th>\n",
              "      <td>40351</td>\n",
              "      <td>40351</td>\n",
              "      <td>INCIDENTE</td>\n",
              "      <td>RIO DE JANEIRO</td>\n",
              "      <td>RJ</td>\n",
              "      <td>SBRJ</td>\n",
              "      <td>03/01/2010</td>\n",
              "      <td>03:00:00</td>\n",
              "      <td>0</td>\n",
              "    </tr>\n",
              "    <tr>\n",
              "      <th>3</th>\n",
              "      <td>39527</td>\n",
              "      <td>39527</td>\n",
              "      <td>ACIDENTE</td>\n",
              "      <td>LUCAS DO RIO VERDE</td>\n",
              "      <td>MT</td>\n",
              "      <td>****</td>\n",
              "      <td>04/01/2010</td>\n",
              "      <td>17:30:00</td>\n",
              "      <td>0</td>\n",
              "    </tr>\n",
              "    <tr>\n",
              "      <th>4</th>\n",
              "      <td>40324</td>\n",
              "      <td>40324</td>\n",
              "      <td>INCIDENTE</td>\n",
              "      <td>PELOTAS</td>\n",
              "      <td>RS</td>\n",
              "      <td>SBPK</td>\n",
              "      <td>05/01/2010</td>\n",
              "      <td>19:25:00</td>\n",
              "      <td>0</td>\n",
              "    </tr>\n",
              "    <tr>\n",
              "      <th>...</th>\n",
              "      <td>...</td>\n",
              "      <td>...</td>\n",
              "      <td>...</td>\n",
              "      <td>...</td>\n",
              "      <td>...</td>\n",
              "      <td>...</td>\n",
              "      <td>...</td>\n",
              "      <td>...</td>\n",
              "      <td>...</td>\n",
              "    </tr>\n",
              "    <tr>\n",
              "      <th>5747</th>\n",
              "      <td>79804</td>\n",
              "      <td>79804</td>\n",
              "      <td>INCIDENTE</td>\n",
              "      <td>CAMPINAS</td>\n",
              "      <td>SP</td>\n",
              "      <td>SBKP</td>\n",
              "      <td>29/12/2020</td>\n",
              "      <td>19:00:00</td>\n",
              "      <td>0</td>\n",
              "    </tr>\n",
              "    <tr>\n",
              "      <th>5748</th>\n",
              "      <td>79757</td>\n",
              "      <td>79757</td>\n",
              "      <td>INCIDENTE GRAVE</td>\n",
              "      <td>LAGOA DA CONFUSÃO</td>\n",
              "      <td>TO</td>\n",
              "      <td>****</td>\n",
              "      <td>30/12/2020</td>\n",
              "      <td>18:30:00</td>\n",
              "      <td>0</td>\n",
              "    </tr>\n",
              "    <tr>\n",
              "      <th>5749</th>\n",
              "      <td>79802</td>\n",
              "      <td>79802</td>\n",
              "      <td>INCIDENTE</td>\n",
              "      <td>RIO DE JANEIRO</td>\n",
              "      <td>RJ</td>\n",
              "      <td>SBGL</td>\n",
              "      <td>30/12/2020</td>\n",
              "      <td>00:54:00</td>\n",
              "      <td>0</td>\n",
              "    </tr>\n",
              "    <tr>\n",
              "      <th>5750</th>\n",
              "      <td>79756</td>\n",
              "      <td>79756</td>\n",
              "      <td>INCIDENTE GRAVE</td>\n",
              "      <td>VICENTINA</td>\n",
              "      <td>MS</td>\n",
              "      <td>****</td>\n",
              "      <td>31/12/2020</td>\n",
              "      <td>09:00:00</td>\n",
              "      <td>0</td>\n",
              "    </tr>\n",
              "    <tr>\n",
              "      <th>5751</th>\n",
              "      <td>79844</td>\n",
              "      <td>79844</td>\n",
              "      <td>INCIDENTE</td>\n",
              "      <td>RIO DE JANEIRO</td>\n",
              "      <td>RJ</td>\n",
              "      <td>SBJR</td>\n",
              "      <td>31/12/2020</td>\n",
              "      <td>13:24:00</td>\n",
              "      <td>0</td>\n",
              "    </tr>\n",
              "  </tbody>\n",
              "</table>\n",
              "<p>5752 rows × 9 columns</p>\n",
              "</div>"
            ],
            "text/plain": [
              "      codigo_ocorrencia  ...  total_recomendacoes\n",
              "0                 40211  ...                    0\n",
              "1                 40349  ...                    0\n",
              "2                 40351  ...                    0\n",
              "3                 39527  ...                    0\n",
              "4                 40324  ...                    0\n",
              "...                 ...  ...                  ...\n",
              "5747              79804  ...                    0\n",
              "5748              79757  ...                    0\n",
              "5749              79802  ...                    0\n",
              "5750              79756  ...                    0\n",
              "5751              79844  ...                    0\n",
              "\n",
              "[5752 rows x 9 columns]"
            ]
          },
          "metadata": {
            "tags": []
          },
          "execution_count": 3
        }
      ]
    },
    {
      "cell_type": "code",
      "metadata": {
        "colab": {
          "base_uri": "https://localhost:8080/",
          "height": 35
        },
        "id": "9du7MclCN9ng",
        "outputId": "4de51a61-1367-44a0-9f74-8ca75362acf5"
      },
      "source": [
        "# para encontrar um valor em determinada linha no dataframe:\n",
        "df.loc[1,'ocorrencia_cidade']"
      ],
      "execution_count": null,
      "outputs": [
        {
          "output_type": "execute_result",
          "data": {
            "application/vnd.google.colaboratory.intrinsic+json": {
              "type": "string"
            },
            "text/plain": [
              "'BELÉM'"
            ]
          },
          "metadata": {
            "tags": []
          },
          "execution_count": 4
        }
      ]
    },
    {
      "cell_type": "code",
      "metadata": {
        "colab": {
          "base_uri": "https://localhost:8080/",
          "height": 179
        },
        "id": "8K6N3FEcOSI8",
        "outputId": "f843f382-6e5e-410c-99c2-474d0ba0dd1c"
      },
      "source": [
        "df.loc[1:3]\n"
      ],
      "execution_count": null,
      "outputs": [
        {
          "output_type": "execute_result",
          "data": {
            "text/html": [
              "<div>\n",
              "<style scoped>\n",
              "    .dataframe tbody tr th:only-of-type {\n",
              "        vertical-align: middle;\n",
              "    }\n",
              "\n",
              "    .dataframe tbody tr th {\n",
              "        vertical-align: top;\n",
              "    }\n",
              "\n",
              "    .dataframe thead th {\n",
              "        text-align: right;\n",
              "    }\n",
              "</style>\n",
              "<table border=\"1\" class=\"dataframe\">\n",
              "  <thead>\n",
              "    <tr style=\"text-align: right;\">\n",
              "      <th></th>\n",
              "      <th>codigo_ocorrencia</th>\n",
              "      <th>codigo_ocorrencia2</th>\n",
              "      <th>ocorrencia_classificacao</th>\n",
              "      <th>ocorrencia_cidade</th>\n",
              "      <th>ocorrencia_uf</th>\n",
              "      <th>ocorrencia_aerodromo</th>\n",
              "      <th>ocorrencia_dia</th>\n",
              "      <th>ocorrencia_hora</th>\n",
              "      <th>total_recomendacoes</th>\n",
              "    </tr>\n",
              "  </thead>\n",
              "  <tbody>\n",
              "    <tr>\n",
              "      <th>1</th>\n",
              "      <td>40349</td>\n",
              "      <td>40349</td>\n",
              "      <td>INCIDENTE</td>\n",
              "      <td>BELÉM</td>\n",
              "      <td>PA</td>\n",
              "      <td>SBBE</td>\n",
              "      <td>03/01/2010</td>\n",
              "      <td>11:05:00</td>\n",
              "      <td>0</td>\n",
              "    </tr>\n",
              "    <tr>\n",
              "      <th>2</th>\n",
              "      <td>40351</td>\n",
              "      <td>40351</td>\n",
              "      <td>INCIDENTE</td>\n",
              "      <td>RIO DE JANEIRO</td>\n",
              "      <td>RJ</td>\n",
              "      <td>SBRJ</td>\n",
              "      <td>03/01/2010</td>\n",
              "      <td>03:00:00</td>\n",
              "      <td>0</td>\n",
              "    </tr>\n",
              "    <tr>\n",
              "      <th>3</th>\n",
              "      <td>39527</td>\n",
              "      <td>39527</td>\n",
              "      <td>ACIDENTE</td>\n",
              "      <td>LUCAS DO RIO VERDE</td>\n",
              "      <td>MT</td>\n",
              "      <td>****</td>\n",
              "      <td>04/01/2010</td>\n",
              "      <td>17:30:00</td>\n",
              "      <td>0</td>\n",
              "    </tr>\n",
              "  </tbody>\n",
              "</table>\n",
              "</div>"
            ],
            "text/plain": [
              "   codigo_ocorrencia  codigo_ocorrencia2  ... ocorrencia_hora total_recomendacoes\n",
              "1              40349               40349  ...        11:05:00                   0\n",
              "2              40351               40351  ...        03:00:00                   0\n",
              "3              39527               39527  ...        17:30:00                   0\n",
              "\n",
              "[3 rows x 9 columns]"
            ]
          },
          "metadata": {
            "tags": []
          },
          "execution_count": 5
        }
      ]
    },
    {
      "cell_type": "code",
      "metadata": {
        "colab": {
          "base_uri": "https://localhost:8080/",
          "height": 131
        },
        "id": "9ViQHVoQOsVB",
        "outputId": "7acc81a5-1b11-4807-fee4-838fe3f6d2b3"
      },
      "source": [
        "# para selecionar mais de uma linha, deve-se colocar um lista como argumento:\n",
        "df.loc[[10,40]]"
      ],
      "execution_count": null,
      "outputs": [
        {
          "output_type": "execute_result",
          "data": {
            "text/html": [
              "<div>\n",
              "<style scoped>\n",
              "    .dataframe tbody tr th:only-of-type {\n",
              "        vertical-align: middle;\n",
              "    }\n",
              "\n",
              "    .dataframe tbody tr th {\n",
              "        vertical-align: top;\n",
              "    }\n",
              "\n",
              "    .dataframe thead th {\n",
              "        text-align: right;\n",
              "    }\n",
              "</style>\n",
              "<table border=\"1\" class=\"dataframe\">\n",
              "  <thead>\n",
              "    <tr style=\"text-align: right;\">\n",
              "      <th></th>\n",
              "      <th>codigo_ocorrencia</th>\n",
              "      <th>codigo_ocorrencia2</th>\n",
              "      <th>ocorrencia_classificacao</th>\n",
              "      <th>ocorrencia_cidade</th>\n",
              "      <th>ocorrencia_uf</th>\n",
              "      <th>ocorrencia_aerodromo</th>\n",
              "      <th>ocorrencia_dia</th>\n",
              "      <th>ocorrencia_hora</th>\n",
              "      <th>total_recomendacoes</th>\n",
              "    </tr>\n",
              "  </thead>\n",
              "  <tbody>\n",
              "    <tr>\n",
              "      <th>10</th>\n",
              "      <td>39789</td>\n",
              "      <td>39789</td>\n",
              "      <td>INCIDENTE</td>\n",
              "      <td>SÃO PEDRO DO SUL</td>\n",
              "      <td>RS</td>\n",
              "      <td>****</td>\n",
              "      <td>10/01/2010</td>\n",
              "      <td>21:30:00</td>\n",
              "      <td>0</td>\n",
              "    </tr>\n",
              "    <tr>\n",
              "      <th>40</th>\n",
              "      <td>39158</td>\n",
              "      <td>39158</td>\n",
              "      <td>INCIDENTE</td>\n",
              "      <td>BELÉM</td>\n",
              "      <td>PA</td>\n",
              "      <td>****</td>\n",
              "      <td>28/01/2010</td>\n",
              "      <td>16:00:00</td>\n",
              "      <td>0</td>\n",
              "    </tr>\n",
              "  </tbody>\n",
              "</table>\n",
              "</div>"
            ],
            "text/plain": [
              "    codigo_ocorrencia  codigo_ocorrencia2  ... ocorrencia_hora total_recomendacoes\n",
              "10              39789               39789  ...        21:30:00                   0\n",
              "40              39158               39158  ...        16:00:00                   0\n",
              "\n",
              "[2 rows x 9 columns]"
            ]
          },
          "metadata": {
            "tags": []
          },
          "execution_count": 7
        }
      ]
    },
    {
      "cell_type": "code",
      "metadata": {
        "colab": {
          "base_uri": "https://localhost:8080/"
        },
        "id": "Z6WPbJgkPB6y",
        "outputId": "0e624d02-c9fc-4bdd-dfe8-f998791ee3a9"
      },
      "source": [
        "# já para toda a coluna, não seleciona a linha e informa a coluna:\n",
        "df.loc[: , 'ocorrencia_uf']"
      ],
      "execution_count": null,
      "outputs": [
        {
          "output_type": "execute_result",
          "data": {
            "text/plain": [
              "0       RJ\n",
              "1       PA\n",
              "2       RJ\n",
              "3       MT\n",
              "4       RS\n",
              "        ..\n",
              "5747    SP\n",
              "5748    TO\n",
              "5749    RJ\n",
              "5750    MS\n",
              "5751    RJ\n",
              "Name: ocorrencia_uf, Length: 5752, dtype: object"
            ]
          },
          "metadata": {
            "tags": []
          },
          "execution_count": 3
        }
      ]
    },
    {
      "cell_type": "code",
      "metadata": {
        "id": "0q5OcKut0GnX"
      },
      "source": [
        ""
      ],
      "execution_count": null,
      "outputs": []
    },
    {
      "cell_type": "code",
      "metadata": {
        "colab": {
          "base_uri": "https://localhost:8080/"
        },
        "id": "E6ahlOQ20G8-",
        "outputId": "d5daa1c0-c751-4508-9f4c-aa91d7ee9920"
      },
      "source": [
        "df.loc[: , 'ocorrencia_cidade']"
      ],
      "execution_count": null,
      "outputs": [
        {
          "output_type": "execute_result",
          "data": {
            "text/plain": [
              "0           RIO DE JANEIRO\n",
              "1                    BELÉM\n",
              "2           RIO DE JANEIRO\n",
              "3       LUCAS DO RIO VERDE\n",
              "4                  PELOTAS\n",
              "               ...        \n",
              "5747              CAMPINAS\n",
              "5748     LAGOA DA CONFUSÃO\n",
              "5749        RIO DE JANEIRO\n",
              "5750             VICENTINA\n",
              "5751        RIO DE JANEIRO\n",
              "Name: ocorrencia_cidade, Length: 5752, dtype: object"
            ]
          },
          "metadata": {
            "tags": []
          },
          "execution_count": 4
        }
      ]
    },
    {
      "cell_type": "code",
      "metadata": {
        "colab": {
          "base_uri": "https://localhost:8080/"
        },
        "id": "1Te7Z7d30jtR",
        "outputId": "34b4a466-8ed0-4380-9068-825e3d799c7b"
      },
      "source": [
        "# verificando se a linha dos código são únicas\n",
        "df.codigo_ocorrencia.is_unique"
      ],
      "execution_count": null,
      "outputs": [
        {
          "output_type": "execute_result",
          "data": {
            "text/plain": [
              "True"
            ]
          },
          "metadata": {
            "tags": []
          },
          "execution_count": 6
        }
      ]
    },
    {
      "cell_type": "code",
      "metadata": {
        "colab": {
          "base_uri": "https://localhost:8080/"
        },
        "id": "4mvkxsXp02ZJ",
        "outputId": "6707f443-02ed-4f1f-f161-1aa7cd76e0fe"
      },
      "source": [
        "# verificando se a linha dos código são únicas\n",
        "df.codigo_ocorrencia2.is_unique"
      ],
      "execution_count": null,
      "outputs": [
        {
          "output_type": "execute_result",
          "data": {
            "text/plain": [
              "True"
            ]
          },
          "metadata": {
            "tags": []
          },
          "execution_count": 7
        }
      ]
    },
    {
      "cell_type": "code",
      "metadata": {
        "id": "G0WQHKQm2ee-"
      },
      "source": [
        ""
      ],
      "execution_count": null,
      "outputs": []
    },
    {
      "cell_type": "code",
      "metadata": {
        "colab": {
          "base_uri": "https://localhost:8080/",
          "height": 272
        },
        "id": "qDNoEXqK2YWc",
        "outputId": "6d29a6a8-d6a4-4ef3-935d-247c6affffb9"
      },
      "source": [
        "df.head()"
      ],
      "execution_count": null,
      "outputs": [
        {
          "output_type": "execute_result",
          "data": {
            "text/html": [
              "<div>\n",
              "<style scoped>\n",
              "    .dataframe tbody tr th:only-of-type {\n",
              "        vertical-align: middle;\n",
              "    }\n",
              "\n",
              "    .dataframe tbody tr th {\n",
              "        vertical-align: top;\n",
              "    }\n",
              "\n",
              "    .dataframe thead th {\n",
              "        text-align: right;\n",
              "    }\n",
              "</style>\n",
              "<table border=\"1\" class=\"dataframe\">\n",
              "  <thead>\n",
              "    <tr style=\"text-align: right;\">\n",
              "      <th></th>\n",
              "      <th>codigo_ocorrencia2</th>\n",
              "      <th>ocorrencia_classificacao</th>\n",
              "      <th>ocorrencia_cidade</th>\n",
              "      <th>ocorrencia_uf</th>\n",
              "      <th>ocorrencia_aerodromo</th>\n",
              "      <th>ocorrencia_dia</th>\n",
              "      <th>ocorrencia_hora</th>\n",
              "      <th>total_recomendacoes</th>\n",
              "    </tr>\n",
              "    <tr>\n",
              "      <th>codigo_ocorrencia</th>\n",
              "      <th></th>\n",
              "      <th></th>\n",
              "      <th></th>\n",
              "      <th></th>\n",
              "      <th></th>\n",
              "      <th></th>\n",
              "      <th></th>\n",
              "      <th></th>\n",
              "    </tr>\n",
              "  </thead>\n",
              "  <tbody>\n",
              "    <tr>\n",
              "      <th>40211</th>\n",
              "      <td>40211</td>\n",
              "      <td>INCIDENTE</td>\n",
              "      <td>RIO DE JANEIRO</td>\n",
              "      <td>RJ</td>\n",
              "      <td>****</td>\n",
              "      <td>03/01/2010</td>\n",
              "      <td>12:00:00</td>\n",
              "      <td>0</td>\n",
              "    </tr>\n",
              "    <tr>\n",
              "      <th>40349</th>\n",
              "      <td>40349</td>\n",
              "      <td>INCIDENTE</td>\n",
              "      <td>BELÉM</td>\n",
              "      <td>PA</td>\n",
              "      <td>SBBE</td>\n",
              "      <td>03/01/2010</td>\n",
              "      <td>11:05:00</td>\n",
              "      <td>0</td>\n",
              "    </tr>\n",
              "    <tr>\n",
              "      <th>40351</th>\n",
              "      <td>40351</td>\n",
              "      <td>INCIDENTE</td>\n",
              "      <td>RIO DE JANEIRO</td>\n",
              "      <td>RJ</td>\n",
              "      <td>SBRJ</td>\n",
              "      <td>03/01/2010</td>\n",
              "      <td>03:00:00</td>\n",
              "      <td>0</td>\n",
              "    </tr>\n",
              "    <tr>\n",
              "      <th>39527</th>\n",
              "      <td>39527</td>\n",
              "      <td>ACIDENTE</td>\n",
              "      <td>LUCAS DO RIO VERDE</td>\n",
              "      <td>MT</td>\n",
              "      <td>****</td>\n",
              "      <td>04/01/2010</td>\n",
              "      <td>17:30:00</td>\n",
              "      <td>0</td>\n",
              "    </tr>\n",
              "    <tr>\n",
              "      <th>40324</th>\n",
              "      <td>40324</td>\n",
              "      <td>INCIDENTE</td>\n",
              "      <td>PELOTAS</td>\n",
              "      <td>RS</td>\n",
              "      <td>SBPK</td>\n",
              "      <td>05/01/2010</td>\n",
              "      <td>19:25:00</td>\n",
              "      <td>0</td>\n",
              "    </tr>\n",
              "  </tbody>\n",
              "</table>\n",
              "</div>"
            ],
            "text/plain": [
              "                   codigo_ocorrencia2  ... total_recomendacoes\n",
              "codigo_ocorrencia                      ...                    \n",
              "40211                           40211  ...                   0\n",
              "40349                           40349  ...                   0\n",
              "40351                           40351  ...                   0\n",
              "39527                           39527  ...                   0\n",
              "40324                           40324  ...                   0\n",
              "\n",
              "[5 rows x 8 columns]"
            ]
          },
          "metadata": {
            "tags": []
          },
          "execution_count": 22
        }
      ]
    },
    {
      "cell_type": "code",
      "metadata": {
        "colab": {
          "base_uri": "https://localhost:8080/",
          "height": 268
        },
        "id": "6DeSqpYB3F1i",
        "outputId": "a4e0d824-9c30-4777-b6c5-4f0e87d84c27"
      },
      "source": [
        "df.head()"
      ],
      "execution_count": null,
      "outputs": [
        {
          "output_type": "execute_result",
          "data": {
            "text/html": [
              "<div>\n",
              "<style scoped>\n",
              "    .dataframe tbody tr th:only-of-type {\n",
              "        vertical-align: middle;\n",
              "    }\n",
              "\n",
              "    .dataframe tbody tr th {\n",
              "        vertical-align: top;\n",
              "    }\n",
              "\n",
              "    .dataframe thead th {\n",
              "        text-align: right;\n",
              "    }\n",
              "</style>\n",
              "<table border=\"1\" class=\"dataframe\">\n",
              "  <thead>\n",
              "    <tr style=\"text-align: right;\">\n",
              "      <th></th>\n",
              "      <th>codigo_ocorrencia2</th>\n",
              "      <th>ocorrencia_classificacao</th>\n",
              "      <th>ocorrencia_cidade</th>\n",
              "      <th>ocorrencia_uf</th>\n",
              "      <th>ocorrencia_aerodromo</th>\n",
              "      <th>ocorrencia_dia</th>\n",
              "      <th>ocorrencia_hora</th>\n",
              "      <th>total_recomendacoes</th>\n",
              "    </tr>\n",
              "    <tr>\n",
              "      <th>codigo_ocorrencia</th>\n",
              "      <th></th>\n",
              "      <th></th>\n",
              "      <th></th>\n",
              "      <th></th>\n",
              "      <th></th>\n",
              "      <th></th>\n",
              "      <th></th>\n",
              "      <th></th>\n",
              "    </tr>\n",
              "  </thead>\n",
              "  <tbody>\n",
              "    <tr>\n",
              "      <th>40211</th>\n",
              "      <td>40211</td>\n",
              "      <td>INCIDENTE</td>\n",
              "      <td>RIO DE JANEIRO</td>\n",
              "      <td>RJ</td>\n",
              "      <td>****</td>\n",
              "      <td>03/01/2010</td>\n",
              "      <td>12:00:00</td>\n",
              "      <td>0</td>\n",
              "    </tr>\n",
              "    <tr>\n",
              "      <th>40349</th>\n",
              "      <td>40349</td>\n",
              "      <td>INCIDENTE</td>\n",
              "      <td>BELÉM</td>\n",
              "      <td>PA</td>\n",
              "      <td>SBBE</td>\n",
              "      <td>03/01/2010</td>\n",
              "      <td>11:05:00</td>\n",
              "      <td>0</td>\n",
              "    </tr>\n",
              "    <tr>\n",
              "      <th>40351</th>\n",
              "      <td>40351</td>\n",
              "      <td>INCIDENTE</td>\n",
              "      <td>RIO DE JANEIRO</td>\n",
              "      <td>RJ</td>\n",
              "      <td>SBRJ</td>\n",
              "      <td>03/01/2010</td>\n",
              "      <td>03:00:00</td>\n",
              "      <td>0</td>\n",
              "    </tr>\n",
              "    <tr>\n",
              "      <th>39527</th>\n",
              "      <td>39527</td>\n",
              "      <td>ACIDENTE</td>\n",
              "      <td>LUCAS DO RIO VERDE</td>\n",
              "      <td>MT</td>\n",
              "      <td>****</td>\n",
              "      <td>04/01/2010</td>\n",
              "      <td>17:30:00</td>\n",
              "      <td>0</td>\n",
              "    </tr>\n",
              "    <tr>\n",
              "      <th>40324</th>\n",
              "      <td>40324</td>\n",
              "      <td>INCIDENTE</td>\n",
              "      <td>PELOTAS</td>\n",
              "      <td>RS</td>\n",
              "      <td>SBPK</td>\n",
              "      <td>05/01/2010</td>\n",
              "      <td>19:25:00</td>\n",
              "      <td>0</td>\n",
              "    </tr>\n",
              "  </tbody>\n",
              "</table>\n",
              "</div>"
            ],
            "text/plain": [
              "                   codigo_ocorrencia2  ... total_recomendacoes\n",
              "codigo_ocorrencia                      ...                    \n",
              "40211                           40211  ...                   0\n",
              "40349                           40349  ...                   0\n",
              "40351                           40351  ...                   0\n",
              "39527                           39527  ...                   0\n",
              "40324                           40324  ...                   0\n",
              "\n",
              "[5 rows x 8 columns]"
            ]
          },
          "metadata": {
            "tags": []
          },
          "execution_count": 25
        }
      ]
    },
    {
      "cell_type": "code",
      "metadata": {
        "colab": {
          "base_uri": "https://localhost:8080/"
        },
        "id": "sfYOd4z_3YLG",
        "outputId": "ef032779-9ab6-422f-c37a-952278d0d3bd"
      },
      "source": [
        "df.loc[40211]"
      ],
      "execution_count": null,
      "outputs": [
        {
          "output_type": "execute_result",
          "data": {
            "text/plain": [
              "codigo_ocorrencia2                   40211\n",
              "ocorrencia_classificacao         INCIDENTE\n",
              "ocorrencia_cidade           RIO DE JANEIRO\n",
              "ocorrencia_uf                           RJ\n",
              "ocorrencia_aerodromo                  ****\n",
              "ocorrencia_dia                  03/01/2010\n",
              "ocorrencia_hora                   12:00:00\n",
              "total_recomendacoes                      0\n",
              "Name: 40211, dtype: object"
            ]
          },
          "metadata": {
            "tags": []
          },
          "execution_count": 28
        }
      ]
    },
    {
      "cell_type": "code",
      "metadata": {
        "id": "-IsJXbDf3i0C"
      },
      "source": [
        "df.reset_index(drop=True, inplace=True)"
      ],
      "execution_count": null,
      "outputs": []
    },
    {
      "cell_type": "code",
      "metadata": {
        "colab": {
          "base_uri": "https://localhost:8080/",
          "height": 238
        },
        "id": "x_pa7Apw3p-W",
        "outputId": "e711973c-2b60-4d1e-e3f9-4c2855efde30"
      },
      "source": [
        "df.head()"
      ],
      "execution_count": null,
      "outputs": [
        {
          "output_type": "execute_result",
          "data": {
            "text/html": [
              "<div>\n",
              "<style scoped>\n",
              "    .dataframe tbody tr th:only-of-type {\n",
              "        vertical-align: middle;\n",
              "    }\n",
              "\n",
              "    .dataframe tbody tr th {\n",
              "        vertical-align: top;\n",
              "    }\n",
              "\n",
              "    .dataframe thead th {\n",
              "        text-align: right;\n",
              "    }\n",
              "</style>\n",
              "<table border=\"1\" class=\"dataframe\">\n",
              "  <thead>\n",
              "    <tr style=\"text-align: right;\">\n",
              "      <th></th>\n",
              "      <th>codigo_ocorrencia2</th>\n",
              "      <th>ocorrencia_classificacao</th>\n",
              "      <th>ocorrencia_cidade</th>\n",
              "      <th>ocorrencia_uf</th>\n",
              "      <th>ocorrencia_aerodromo</th>\n",
              "      <th>ocorrencia_dia</th>\n",
              "      <th>ocorrencia_hora</th>\n",
              "      <th>total_recomendacoes</th>\n",
              "    </tr>\n",
              "  </thead>\n",
              "  <tbody>\n",
              "    <tr>\n",
              "      <th>0</th>\n",
              "      <td>40211</td>\n",
              "      <td>INCIDENTE</td>\n",
              "      <td>RIO DE JANEIRO</td>\n",
              "      <td>RJ</td>\n",
              "      <td>****</td>\n",
              "      <td>03/01/2010</td>\n",
              "      <td>12:00:00</td>\n",
              "      <td>0</td>\n",
              "    </tr>\n",
              "    <tr>\n",
              "      <th>1</th>\n",
              "      <td>40349</td>\n",
              "      <td>INCIDENTE</td>\n",
              "      <td>BELÉM</td>\n",
              "      <td>PA</td>\n",
              "      <td>SBBE</td>\n",
              "      <td>03/01/2010</td>\n",
              "      <td>11:05:00</td>\n",
              "      <td>0</td>\n",
              "    </tr>\n",
              "    <tr>\n",
              "      <th>2</th>\n",
              "      <td>40351</td>\n",
              "      <td>INCIDENTE</td>\n",
              "      <td>RIO DE JANEIRO</td>\n",
              "      <td>RJ</td>\n",
              "      <td>SBRJ</td>\n",
              "      <td>03/01/2010</td>\n",
              "      <td>03:00:00</td>\n",
              "      <td>0</td>\n",
              "    </tr>\n",
              "    <tr>\n",
              "      <th>3</th>\n",
              "      <td>39527</td>\n",
              "      <td>ACIDENTE</td>\n",
              "      <td>LUCAS DO RIO VERDE</td>\n",
              "      <td>MT</td>\n",
              "      <td>****</td>\n",
              "      <td>04/01/2010</td>\n",
              "      <td>17:30:00</td>\n",
              "      <td>0</td>\n",
              "    </tr>\n",
              "    <tr>\n",
              "      <th>4</th>\n",
              "      <td>40324</td>\n",
              "      <td>INCIDENTE</td>\n",
              "      <td>PELOTAS</td>\n",
              "      <td>RS</td>\n",
              "      <td>SBPK</td>\n",
              "      <td>05/01/2010</td>\n",
              "      <td>19:25:00</td>\n",
              "      <td>0</td>\n",
              "    </tr>\n",
              "  </tbody>\n",
              "</table>\n",
              "</div>"
            ],
            "text/plain": [
              "   codigo_ocorrencia2  ... total_recomendacoes\n",
              "0               40211  ...                   0\n",
              "1               40349  ...                   0\n",
              "2               40351  ...                   0\n",
              "3               39527  ...                   0\n",
              "4               40324  ...                   0\n",
              "\n",
              "[5 rows x 8 columns]"
            ]
          },
          "metadata": {
            "tags": []
          },
          "execution_count": 30
        }
      ]
    },
    {
      "cell_type": "code",
      "metadata": {
        "id": "yQvj1OMz4gz2"
      },
      "source": [
        "# criando um coluna de backup\n",
        "df['ocorrencia_uf_bk'] = df.ocorrencia_uf"
      ],
      "execution_count": null,
      "outputs": []
    },
    {
      "cell_type": "code",
      "metadata": {
        "id": "cVvPZWbz7IaX"
      },
      "source": [
        "# Como dados foram alterados, iremos usar o dataframe original.\n",
        "import pandas as pd\n",
        "\n",
        "df = pd.read_csv(\"ocorrencia_2010_2020.csv\")"
      ],
      "execution_count": null,
      "outputs": []
    },
    {
      "cell_type": "code",
      "metadata": {
        "id": "udk8mHDK7t9y",
        "colab": {
          "base_uri": "https://localhost:8080/",
          "height": 35
        },
        "outputId": "8d4b37b5-db61-4968-a30e-7bbd9054e583"
      },
      "source": [
        "'''''\n",
        "\n",
        "# Dados para limpeza de ocorrencia_uf\n",
        "**\n",
        "\n",
        "\n",
        "# Dados para limpeza de ocorrencia_aerodromo\n",
        "\n",
        "****\n",
        "\n",
        "*****\n",
        "\n",
        "###!\n",
        "\n",
        "####\n",
        "\n",
        "\n",
        "ocorrencia_hora\n",
        "NULL\n",
        "\n",
        "'''''"
      ],
      "execution_count": null,
      "outputs": [
        {
          "output_type": "execute_result",
          "data": {
            "application/vnd.google.colaboratory.intrinsic+json": {
              "type": "string"
            },
            "text/plain": [
              "\"''\\n\\n# Dados para limpeza de ocorrencia_uf\\n**\\n\\n\\n# Dados para limpeza de ocorrencia_aerodromo\\n\\n****\\n\\n*****\\n\\n###!\\n\\n####\\n\\n\\nocorrencia_hora\\nNULL\\n\\n\""
            ]
          },
          "metadata": {
            "tags": []
          },
          "execution_count": 7
        }
      ]
    },
    {
      "cell_type": "code",
      "metadata": {
        "id": "2Bf_zeQW83iK",
        "colab": {
          "base_uri": "https://localhost:8080/",
          "height": 244
        },
        "outputId": "4679f4c0-a3de-4ea2-9c69-57fb6d728ffd"
      },
      "source": [
        "df.head()"
      ],
      "execution_count": null,
      "outputs": [
        {
          "output_type": "execute_result",
          "data": {
            "text/html": [
              "<div>\n",
              "<style scoped>\n",
              "    .dataframe tbody tr th:only-of-type {\n",
              "        vertical-align: middle;\n",
              "    }\n",
              "\n",
              "    .dataframe tbody tr th {\n",
              "        vertical-align: top;\n",
              "    }\n",
              "\n",
              "    .dataframe thead th {\n",
              "        text-align: right;\n",
              "    }\n",
              "</style>\n",
              "<table border=\"1\" class=\"dataframe\">\n",
              "  <thead>\n",
              "    <tr style=\"text-align: right;\">\n",
              "      <th></th>\n",
              "      <th>codigo_ocorrencia</th>\n",
              "      <th>codigo_ocorrencia2</th>\n",
              "      <th>ocorrencia_classificacao</th>\n",
              "      <th>ocorrencia_cidade</th>\n",
              "      <th>ocorrencia_uf</th>\n",
              "      <th>ocorrencia_aerodromo</th>\n",
              "      <th>ocorrencia_dia</th>\n",
              "      <th>ocorrencia_hora</th>\n",
              "      <th>total_recomendacoes</th>\n",
              "    </tr>\n",
              "  </thead>\n",
              "  <tbody>\n",
              "    <tr>\n",
              "      <th>0</th>\n",
              "      <td>40211</td>\n",
              "      <td>40211</td>\n",
              "      <td>INCIDENTE</td>\n",
              "      <td>RIO DE JANEIRO</td>\n",
              "      <td>RJ</td>\n",
              "      <td>****</td>\n",
              "      <td>03/01/2010</td>\n",
              "      <td>12:00:00</td>\n",
              "      <td>0</td>\n",
              "    </tr>\n",
              "    <tr>\n",
              "      <th>1</th>\n",
              "      <td>40349</td>\n",
              "      <td>40349</td>\n",
              "      <td>INCIDENTE</td>\n",
              "      <td>BELÉM</td>\n",
              "      <td>PA</td>\n",
              "      <td>SBBE</td>\n",
              "      <td>03/01/2010</td>\n",
              "      <td>11:05:00</td>\n",
              "      <td>0</td>\n",
              "    </tr>\n",
              "    <tr>\n",
              "      <th>2</th>\n",
              "      <td>40351</td>\n",
              "      <td>40351</td>\n",
              "      <td>INCIDENTE</td>\n",
              "      <td>RIO DE JANEIRO</td>\n",
              "      <td>RJ</td>\n",
              "      <td>SBRJ</td>\n",
              "      <td>03/01/2010</td>\n",
              "      <td>03:00:00</td>\n",
              "      <td>0</td>\n",
              "    </tr>\n",
              "    <tr>\n",
              "      <th>3</th>\n",
              "      <td>39527</td>\n",
              "      <td>39527</td>\n",
              "      <td>ACIDENTE</td>\n",
              "      <td>LUCAS DO RIO VERDE</td>\n",
              "      <td>MT</td>\n",
              "      <td>****</td>\n",
              "      <td>04/01/2010</td>\n",
              "      <td>17:30:00</td>\n",
              "      <td>0</td>\n",
              "    </tr>\n",
              "    <tr>\n",
              "      <th>4</th>\n",
              "      <td>40324</td>\n",
              "      <td>40324</td>\n",
              "      <td>INCIDENTE</td>\n",
              "      <td>PELOTAS</td>\n",
              "      <td>RS</td>\n",
              "      <td>SBPK</td>\n",
              "      <td>05/01/2010</td>\n",
              "      <td>19:25:00</td>\n",
              "      <td>0</td>\n",
              "    </tr>\n",
              "  </tbody>\n",
              "</table>\n",
              "</div>"
            ],
            "text/plain": [
              "   codigo_ocorrencia  codigo_ocorrencia2  ... ocorrencia_hora total_recomendacoes\n",
              "0              40211               40211  ...        12:00:00                   0\n",
              "1              40349               40349  ...        11:05:00                   0\n",
              "2              40351               40351  ...        03:00:00                   0\n",
              "3              39527               39527  ...        17:30:00                   0\n",
              "4              40324               40324  ...        19:25:00                   0\n",
              "\n",
              "[5 rows x 9 columns]"
            ]
          },
          "metadata": {
            "tags": []
          },
          "execution_count": 8
        }
      ]
    },
    {
      "cell_type": "code",
      "metadata": {
        "id": "B6EK1vD_9A_X"
      },
      "source": [
        "# Para limpar um situação qualquer que queiramos tirar (dados sujos)\n",
        "# Fazendo o filtro\n",
        "\n",
        "# A partir do Pandas 1.0, já é possível colocar valores não informados\n",
        "# Not Avaliable \n",
        "\n",
        "df.loc[df.ocorrencia_aerodromo == '****' , ['ocorrencia_aerodromo']] = pd.NA\n",
        "\n"
      ],
      "execution_count": null,
      "outputs": []
    },
    {
      "cell_type": "code",
      "metadata": {
        "id": "sTc2ti_f93GE",
        "colab": {
          "base_uri": "https://localhost:8080/",
          "height": 244
        },
        "outputId": "c8b4db0d-8f89-4f3c-dd37-7472940b4234"
      },
      "source": [
        "df.head()"
      ],
      "execution_count": null,
      "outputs": [
        {
          "output_type": "execute_result",
          "data": {
            "text/html": [
              "<div>\n",
              "<style scoped>\n",
              "    .dataframe tbody tr th:only-of-type {\n",
              "        vertical-align: middle;\n",
              "    }\n",
              "\n",
              "    .dataframe tbody tr th {\n",
              "        vertical-align: top;\n",
              "    }\n",
              "\n",
              "    .dataframe thead th {\n",
              "        text-align: right;\n",
              "    }\n",
              "</style>\n",
              "<table border=\"1\" class=\"dataframe\">\n",
              "  <thead>\n",
              "    <tr style=\"text-align: right;\">\n",
              "      <th></th>\n",
              "      <th>codigo_ocorrencia</th>\n",
              "      <th>codigo_ocorrencia2</th>\n",
              "      <th>ocorrencia_classificacao</th>\n",
              "      <th>ocorrencia_cidade</th>\n",
              "      <th>ocorrencia_uf</th>\n",
              "      <th>ocorrencia_aerodromo</th>\n",
              "      <th>ocorrencia_dia</th>\n",
              "      <th>ocorrencia_hora</th>\n",
              "      <th>total_recomendacoes</th>\n",
              "    </tr>\n",
              "  </thead>\n",
              "  <tbody>\n",
              "    <tr>\n",
              "      <th>0</th>\n",
              "      <td>40211</td>\n",
              "      <td>40211</td>\n",
              "      <td>INCIDENTE</td>\n",
              "      <td>RIO DE JANEIRO</td>\n",
              "      <td>RJ</td>\n",
              "      <td>&lt;NA&gt;</td>\n",
              "      <td>03/01/2010</td>\n",
              "      <td>12:00:00</td>\n",
              "      <td>0</td>\n",
              "    </tr>\n",
              "    <tr>\n",
              "      <th>1</th>\n",
              "      <td>40349</td>\n",
              "      <td>40349</td>\n",
              "      <td>INCIDENTE</td>\n",
              "      <td>BELÉM</td>\n",
              "      <td>PA</td>\n",
              "      <td>SBBE</td>\n",
              "      <td>03/01/2010</td>\n",
              "      <td>11:05:00</td>\n",
              "      <td>0</td>\n",
              "    </tr>\n",
              "    <tr>\n",
              "      <th>2</th>\n",
              "      <td>40351</td>\n",
              "      <td>40351</td>\n",
              "      <td>INCIDENTE</td>\n",
              "      <td>RIO DE JANEIRO</td>\n",
              "      <td>RJ</td>\n",
              "      <td>SBRJ</td>\n",
              "      <td>03/01/2010</td>\n",
              "      <td>03:00:00</td>\n",
              "      <td>0</td>\n",
              "    </tr>\n",
              "    <tr>\n",
              "      <th>3</th>\n",
              "      <td>39527</td>\n",
              "      <td>39527</td>\n",
              "      <td>ACIDENTE</td>\n",
              "      <td>LUCAS DO RIO VERDE</td>\n",
              "      <td>MT</td>\n",
              "      <td>&lt;NA&gt;</td>\n",
              "      <td>04/01/2010</td>\n",
              "      <td>17:30:00</td>\n",
              "      <td>0</td>\n",
              "    </tr>\n",
              "    <tr>\n",
              "      <th>4</th>\n",
              "      <td>40324</td>\n",
              "      <td>40324</td>\n",
              "      <td>INCIDENTE</td>\n",
              "      <td>PELOTAS</td>\n",
              "      <td>RS</td>\n",
              "      <td>SBPK</td>\n",
              "      <td>05/01/2010</td>\n",
              "      <td>19:25:00</td>\n",
              "      <td>0</td>\n",
              "    </tr>\n",
              "  </tbody>\n",
              "</table>\n",
              "</div>"
            ],
            "text/plain": [
              "   codigo_ocorrencia  codigo_ocorrencia2  ... ocorrencia_hora total_recomendacoes\n",
              "0              40211               40211  ...        12:00:00                   0\n",
              "1              40349               40349  ...        11:05:00                   0\n",
              "2              40351               40351  ...        03:00:00                   0\n",
              "3              39527               39527  ...        17:30:00                   0\n",
              "4              40324               40324  ...        19:25:00                   0\n",
              "\n",
              "[5 rows x 9 columns]"
            ]
          },
          "metadata": {
            "tags": []
          },
          "execution_count": 13
        }
      ]
    },
    {
      "cell_type": "code",
      "metadata": {
        "id": "xBj3kM5H-EtT"
      },
      "source": [
        "# Realizando a limpeza de um única vez usando o método replace\n",
        "# ou seja, as alterações sejam feitas no dataframe como um todo.\n",
        "\n",
        "df.replace(['**', '****', '###!' , 'NULL'], pd.NA, inplace=True)\n",
        "\n"
      ],
      "execution_count": 8,
      "outputs": []
    },
    {
      "cell_type": "code",
      "metadata": {
        "colab": {
          "base_uri": "https://localhost:8080/",
          "height": 419
        },
        "id": "bJjzAdJBcm3-",
        "outputId": "3007a34f-ca2f-4db5-fb4a-559cdadefe2e"
      },
      "source": [
        "# procurando dados não informados\n",
        "# descrevendo os campos que estão sem indicação\n",
        "df.isna()"
      ],
      "execution_count": 10,
      "outputs": [
        {
          "output_type": "execute_result",
          "data": {
            "text/html": [
              "<div>\n",
              "<style scoped>\n",
              "    .dataframe tbody tr th:only-of-type {\n",
              "        vertical-align: middle;\n",
              "    }\n",
              "\n",
              "    .dataframe tbody tr th {\n",
              "        vertical-align: top;\n",
              "    }\n",
              "\n",
              "    .dataframe thead th {\n",
              "        text-align: right;\n",
              "    }\n",
              "</style>\n",
              "<table border=\"1\" class=\"dataframe\">\n",
              "  <thead>\n",
              "    <tr style=\"text-align: right;\">\n",
              "      <th></th>\n",
              "      <th>codigo_ocorrencia</th>\n",
              "      <th>codigo_ocorrencia2</th>\n",
              "      <th>ocorrencia_classificacao</th>\n",
              "      <th>ocorrencia_cidade</th>\n",
              "      <th>ocorrencia_uf</th>\n",
              "      <th>ocorrencia_aerodromo</th>\n",
              "      <th>ocorrencia_dia</th>\n",
              "      <th>ocorrencia_hora</th>\n",
              "      <th>total_recomendacoes</th>\n",
              "    </tr>\n",
              "  </thead>\n",
              "  <tbody>\n",
              "    <tr>\n",
              "      <th>0</th>\n",
              "      <td>False</td>\n",
              "      <td>False</td>\n",
              "      <td>False</td>\n",
              "      <td>False</td>\n",
              "      <td>False</td>\n",
              "      <td>True</td>\n",
              "      <td>False</td>\n",
              "      <td>False</td>\n",
              "      <td>False</td>\n",
              "    </tr>\n",
              "    <tr>\n",
              "      <th>1</th>\n",
              "      <td>False</td>\n",
              "      <td>False</td>\n",
              "      <td>False</td>\n",
              "      <td>False</td>\n",
              "      <td>False</td>\n",
              "      <td>False</td>\n",
              "      <td>False</td>\n",
              "      <td>False</td>\n",
              "      <td>False</td>\n",
              "    </tr>\n",
              "    <tr>\n",
              "      <th>2</th>\n",
              "      <td>False</td>\n",
              "      <td>False</td>\n",
              "      <td>False</td>\n",
              "      <td>False</td>\n",
              "      <td>False</td>\n",
              "      <td>False</td>\n",
              "      <td>False</td>\n",
              "      <td>False</td>\n",
              "      <td>False</td>\n",
              "    </tr>\n",
              "    <tr>\n",
              "      <th>3</th>\n",
              "      <td>False</td>\n",
              "      <td>False</td>\n",
              "      <td>False</td>\n",
              "      <td>False</td>\n",
              "      <td>False</td>\n",
              "      <td>True</td>\n",
              "      <td>False</td>\n",
              "      <td>False</td>\n",
              "      <td>False</td>\n",
              "    </tr>\n",
              "    <tr>\n",
              "      <th>4</th>\n",
              "      <td>False</td>\n",
              "      <td>False</td>\n",
              "      <td>False</td>\n",
              "      <td>False</td>\n",
              "      <td>False</td>\n",
              "      <td>False</td>\n",
              "      <td>False</td>\n",
              "      <td>False</td>\n",
              "      <td>False</td>\n",
              "    </tr>\n",
              "    <tr>\n",
              "      <th>...</th>\n",
              "      <td>...</td>\n",
              "      <td>...</td>\n",
              "      <td>...</td>\n",
              "      <td>...</td>\n",
              "      <td>...</td>\n",
              "      <td>...</td>\n",
              "      <td>...</td>\n",
              "      <td>...</td>\n",
              "      <td>...</td>\n",
              "    </tr>\n",
              "    <tr>\n",
              "      <th>5747</th>\n",
              "      <td>False</td>\n",
              "      <td>False</td>\n",
              "      <td>False</td>\n",
              "      <td>False</td>\n",
              "      <td>False</td>\n",
              "      <td>False</td>\n",
              "      <td>False</td>\n",
              "      <td>False</td>\n",
              "      <td>False</td>\n",
              "    </tr>\n",
              "    <tr>\n",
              "      <th>5748</th>\n",
              "      <td>False</td>\n",
              "      <td>False</td>\n",
              "      <td>False</td>\n",
              "      <td>False</td>\n",
              "      <td>False</td>\n",
              "      <td>True</td>\n",
              "      <td>False</td>\n",
              "      <td>False</td>\n",
              "      <td>False</td>\n",
              "    </tr>\n",
              "    <tr>\n",
              "      <th>5749</th>\n",
              "      <td>False</td>\n",
              "      <td>False</td>\n",
              "      <td>False</td>\n",
              "      <td>False</td>\n",
              "      <td>False</td>\n",
              "      <td>False</td>\n",
              "      <td>False</td>\n",
              "      <td>False</td>\n",
              "      <td>False</td>\n",
              "    </tr>\n",
              "    <tr>\n",
              "      <th>5750</th>\n",
              "      <td>False</td>\n",
              "      <td>False</td>\n",
              "      <td>False</td>\n",
              "      <td>False</td>\n",
              "      <td>False</td>\n",
              "      <td>True</td>\n",
              "      <td>False</td>\n",
              "      <td>False</td>\n",
              "      <td>False</td>\n",
              "    </tr>\n",
              "    <tr>\n",
              "      <th>5751</th>\n",
              "      <td>False</td>\n",
              "      <td>False</td>\n",
              "      <td>False</td>\n",
              "      <td>False</td>\n",
              "      <td>False</td>\n",
              "      <td>False</td>\n",
              "      <td>False</td>\n",
              "      <td>False</td>\n",
              "      <td>False</td>\n",
              "    </tr>\n",
              "  </tbody>\n",
              "</table>\n",
              "<p>5752 rows × 9 columns</p>\n",
              "</div>"
            ],
            "text/plain": [
              "      codigo_ocorrencia  ...  total_recomendacoes\n",
              "0                 False  ...                False\n",
              "1                 False  ...                False\n",
              "2                 False  ...                False\n",
              "3                 False  ...                False\n",
              "4                 False  ...                False\n",
              "...                 ...  ...                  ...\n",
              "5747              False  ...                False\n",
              "5748              False  ...                False\n",
              "5749              False  ...                False\n",
              "5750              False  ...                False\n",
              "5751              False  ...                False\n",
              "\n",
              "[5752 rows x 9 columns]"
            ]
          },
          "metadata": {
            "tags": []
          },
          "execution_count": 10
        }
      ]
    },
    {
      "cell_type": "code",
      "metadata": {
        "colab": {
          "base_uri": "https://localhost:8080/"
        },
        "id": "0RKqvHe8c4Uw",
        "outputId": "f572b4c4-1548-44cc-a025-346ba5e9e864"
      },
      "source": [
        "# Mas o somatório desses valores usamos o método sum()\n",
        "df.isna().sum()"
      ],
      "execution_count": 11,
      "outputs": [
        {
          "output_type": "execute_result",
          "data": {
            "text/plain": [
              "codigo_ocorrencia              0\n",
              "codigo_ocorrencia2             0\n",
              "ocorrencia_classificacao       0\n",
              "ocorrencia_cidade              0\n",
              "ocorrencia_uf                  1\n",
              "ocorrencia_aerodromo        2186\n",
              "ocorrencia_dia                 0\n",
              "ocorrencia_hora                1\n",
              "total_recomendacoes            0\n",
              "dtype: int64"
            ]
          },
          "metadata": {
            "tags": []
          },
          "execution_count": 11
        }
      ]
    },
    {
      "cell_type": "code",
      "metadata": {
        "colab": {
          "base_uri": "https://localhost:8080/"
        },
        "id": "Jycm8wYhdLJR",
        "outputId": "36783639-f203-40cc-b618-7736059aef0d"
      },
      "source": [
        "# outra possibilidade é procurar valores nulos\n",
        "\n",
        "df.isnull().sum()"
      ],
      "execution_count": 13,
      "outputs": [
        {
          "output_type": "execute_result",
          "data": {
            "text/plain": [
              "codigo_ocorrencia              0\n",
              "codigo_ocorrencia2             0\n",
              "ocorrencia_classificacao       0\n",
              "ocorrencia_cidade              0\n",
              "ocorrencia_uf                  1\n",
              "ocorrencia_aerodromo        2186\n",
              "ocorrencia_dia                 0\n",
              "ocorrencia_hora                1\n",
              "total_recomendacoes            0\n",
              "dtype: int64"
            ]
          },
          "metadata": {
            "tags": []
          },
          "execution_count": 13
        }
      ]
    },
    {
      "cell_type": "code",
      "metadata": {
        "colab": {
          "base_uri": "https://localhost:8080/",
          "height": 419
        },
        "id": "nZkqcTlIdcNj",
        "outputId": "2a9d0891-091f-472a-eba5-5afc70469e85"
      },
      "source": [
        "# Para preenchimento com algum valor nos registros vazios\n",
        "\n",
        "df.fillna(0)"
      ],
      "execution_count": 14,
      "outputs": [
        {
          "output_type": "execute_result",
          "data": {
            "text/html": [
              "<div>\n",
              "<style scoped>\n",
              "    .dataframe tbody tr th:only-of-type {\n",
              "        vertical-align: middle;\n",
              "    }\n",
              "\n",
              "    .dataframe tbody tr th {\n",
              "        vertical-align: top;\n",
              "    }\n",
              "\n",
              "    .dataframe thead th {\n",
              "        text-align: right;\n",
              "    }\n",
              "</style>\n",
              "<table border=\"1\" class=\"dataframe\">\n",
              "  <thead>\n",
              "    <tr style=\"text-align: right;\">\n",
              "      <th></th>\n",
              "      <th>codigo_ocorrencia</th>\n",
              "      <th>codigo_ocorrencia2</th>\n",
              "      <th>ocorrencia_classificacao</th>\n",
              "      <th>ocorrencia_cidade</th>\n",
              "      <th>ocorrencia_uf</th>\n",
              "      <th>ocorrencia_aerodromo</th>\n",
              "      <th>ocorrencia_dia</th>\n",
              "      <th>ocorrencia_hora</th>\n",
              "      <th>total_recomendacoes</th>\n",
              "    </tr>\n",
              "  </thead>\n",
              "  <tbody>\n",
              "    <tr>\n",
              "      <th>0</th>\n",
              "      <td>40211</td>\n",
              "      <td>40211</td>\n",
              "      <td>INCIDENTE</td>\n",
              "      <td>RIO DE JANEIRO</td>\n",
              "      <td>RJ</td>\n",
              "      <td>0</td>\n",
              "      <td>03/01/2010</td>\n",
              "      <td>12:00:00</td>\n",
              "      <td>0</td>\n",
              "    </tr>\n",
              "    <tr>\n",
              "      <th>1</th>\n",
              "      <td>40349</td>\n",
              "      <td>40349</td>\n",
              "      <td>INCIDENTE</td>\n",
              "      <td>BELÉM</td>\n",
              "      <td>PA</td>\n",
              "      <td>SBBE</td>\n",
              "      <td>03/01/2010</td>\n",
              "      <td>11:05:00</td>\n",
              "      <td>0</td>\n",
              "    </tr>\n",
              "    <tr>\n",
              "      <th>2</th>\n",
              "      <td>40351</td>\n",
              "      <td>40351</td>\n",
              "      <td>INCIDENTE</td>\n",
              "      <td>RIO DE JANEIRO</td>\n",
              "      <td>RJ</td>\n",
              "      <td>SBRJ</td>\n",
              "      <td>03/01/2010</td>\n",
              "      <td>03:00:00</td>\n",
              "      <td>0</td>\n",
              "    </tr>\n",
              "    <tr>\n",
              "      <th>3</th>\n",
              "      <td>39527</td>\n",
              "      <td>39527</td>\n",
              "      <td>ACIDENTE</td>\n",
              "      <td>LUCAS DO RIO VERDE</td>\n",
              "      <td>MT</td>\n",
              "      <td>0</td>\n",
              "      <td>04/01/2010</td>\n",
              "      <td>17:30:00</td>\n",
              "      <td>0</td>\n",
              "    </tr>\n",
              "    <tr>\n",
              "      <th>4</th>\n",
              "      <td>40324</td>\n",
              "      <td>40324</td>\n",
              "      <td>INCIDENTE</td>\n",
              "      <td>PELOTAS</td>\n",
              "      <td>RS</td>\n",
              "      <td>SBPK</td>\n",
              "      <td>05/01/2010</td>\n",
              "      <td>19:25:00</td>\n",
              "      <td>0</td>\n",
              "    </tr>\n",
              "    <tr>\n",
              "      <th>...</th>\n",
              "      <td>...</td>\n",
              "      <td>...</td>\n",
              "      <td>...</td>\n",
              "      <td>...</td>\n",
              "      <td>...</td>\n",
              "      <td>...</td>\n",
              "      <td>...</td>\n",
              "      <td>...</td>\n",
              "      <td>...</td>\n",
              "    </tr>\n",
              "    <tr>\n",
              "      <th>5747</th>\n",
              "      <td>79804</td>\n",
              "      <td>79804</td>\n",
              "      <td>INCIDENTE</td>\n",
              "      <td>CAMPINAS</td>\n",
              "      <td>SP</td>\n",
              "      <td>SBKP</td>\n",
              "      <td>29/12/2020</td>\n",
              "      <td>19:00:00</td>\n",
              "      <td>0</td>\n",
              "    </tr>\n",
              "    <tr>\n",
              "      <th>5748</th>\n",
              "      <td>79757</td>\n",
              "      <td>79757</td>\n",
              "      <td>INCIDENTE GRAVE</td>\n",
              "      <td>LAGOA DA CONFUSÃO</td>\n",
              "      <td>TO</td>\n",
              "      <td>0</td>\n",
              "      <td>30/12/2020</td>\n",
              "      <td>18:30:00</td>\n",
              "      <td>0</td>\n",
              "    </tr>\n",
              "    <tr>\n",
              "      <th>5749</th>\n",
              "      <td>79802</td>\n",
              "      <td>79802</td>\n",
              "      <td>INCIDENTE</td>\n",
              "      <td>RIO DE JANEIRO</td>\n",
              "      <td>RJ</td>\n",
              "      <td>SBGL</td>\n",
              "      <td>30/12/2020</td>\n",
              "      <td>00:54:00</td>\n",
              "      <td>0</td>\n",
              "    </tr>\n",
              "    <tr>\n",
              "      <th>5750</th>\n",
              "      <td>79756</td>\n",
              "      <td>79756</td>\n",
              "      <td>INCIDENTE GRAVE</td>\n",
              "      <td>VICENTINA</td>\n",
              "      <td>MS</td>\n",
              "      <td>0</td>\n",
              "      <td>31/12/2020</td>\n",
              "      <td>09:00:00</td>\n",
              "      <td>0</td>\n",
              "    </tr>\n",
              "    <tr>\n",
              "      <th>5751</th>\n",
              "      <td>79844</td>\n",
              "      <td>79844</td>\n",
              "      <td>INCIDENTE</td>\n",
              "      <td>RIO DE JANEIRO</td>\n",
              "      <td>RJ</td>\n",
              "      <td>SBJR</td>\n",
              "      <td>31/12/2020</td>\n",
              "      <td>13:24:00</td>\n",
              "      <td>0</td>\n",
              "    </tr>\n",
              "  </tbody>\n",
              "</table>\n",
              "<p>5752 rows × 9 columns</p>\n",
              "</div>"
            ],
            "text/plain": [
              "      codigo_ocorrencia  ...  total_recomendacoes\n",
              "0                 40211  ...                    0\n",
              "1                 40349  ...                    0\n",
              "2                 40351  ...                    0\n",
              "3                 39527  ...                    0\n",
              "4                 40324  ...                    0\n",
              "...                 ...  ...                  ...\n",
              "5747              79804  ...                    0\n",
              "5748              79757  ...                    0\n",
              "5749              79802  ...                    0\n",
              "5750              79756  ...                    0\n",
              "5751              79844  ...                    0\n",
              "\n",
              "[5752 rows x 9 columns]"
            ]
          },
          "metadata": {
            "tags": []
          },
          "execution_count": 14
        }
      ]
    },
    {
      "cell_type": "code",
      "metadata": {
        "id": "c0ubkIMXeJOE"
      },
      "source": [
        "# Retornando os valores para N/A - missing values\n",
        "df.replace([10], pd.NA, inplace=True)\n"
      ],
      "execution_count": 17,
      "outputs": []
    },
    {
      "cell_type": "code",
      "metadata": {
        "id": "LttWEfZEeWzV"
      },
      "source": [
        "# Criando backup:\n",
        "df['ocorrencia_classificacao_bkp'] = df.ocorrencia_classificacao"
      ],
      "execution_count": 21,
      "outputs": []
    },
    {
      "cell_type": "code",
      "metadata": {
        "colab": {
          "base_uri": "https://localhost:8080/",
          "height": 306
        },
        "id": "2gRQw3MjfUDg",
        "outputId": "460ef075-a073-4c62-c78e-86bf4998140c"
      },
      "source": [
        "df.drop(['ocorrencia_classificacao_bkp'])"
      ],
      "execution_count": 23,
      "outputs": [
        {
          "output_type": "error",
          "ename": "KeyError",
          "evalue": "ignored",
          "traceback": [
            "\u001b[0;31m---------------------------------------------------------------------------\u001b[0m",
            "\u001b[0;31mKeyError\u001b[0m                                  Traceback (most recent call last)",
            "\u001b[0;32m<ipython-input-23-5b97ec1005da>\u001b[0m in \u001b[0;36m<module>\u001b[0;34m()\u001b[0m\n\u001b[0;32m----> 1\u001b[0;31m \u001b[0mdf\u001b[0m\u001b[0;34m.\u001b[0m\u001b[0mdrop\u001b[0m\u001b[0;34m(\u001b[0m\u001b[0;34m[\u001b[0m\u001b[0;34m'ocorrencia_classificacao_bkp'\u001b[0m\u001b[0;34m]\u001b[0m\u001b[0;34m)\u001b[0m\u001b[0;34m\u001b[0m\u001b[0;34m\u001b[0m\u001b[0m\n\u001b[0m",
            "\u001b[0;32m/usr/local/lib/python3.7/dist-packages/pandas/core/frame.py\u001b[0m in \u001b[0;36mdrop\u001b[0;34m(self, labels, axis, index, columns, level, inplace, errors)\u001b[0m\n\u001b[1;32m   4172\u001b[0m             \u001b[0mlevel\u001b[0m\u001b[0;34m=\u001b[0m\u001b[0mlevel\u001b[0m\u001b[0;34m,\u001b[0m\u001b[0;34m\u001b[0m\u001b[0;34m\u001b[0m\u001b[0m\n\u001b[1;32m   4173\u001b[0m             \u001b[0minplace\u001b[0m\u001b[0;34m=\u001b[0m\u001b[0minplace\u001b[0m\u001b[0;34m,\u001b[0m\u001b[0;34m\u001b[0m\u001b[0;34m\u001b[0m\u001b[0m\n\u001b[0;32m-> 4174\u001b[0;31m             \u001b[0merrors\u001b[0m\u001b[0;34m=\u001b[0m\u001b[0merrors\u001b[0m\u001b[0;34m,\u001b[0m\u001b[0;34m\u001b[0m\u001b[0;34m\u001b[0m\u001b[0m\n\u001b[0m\u001b[1;32m   4175\u001b[0m         )\n\u001b[1;32m   4176\u001b[0m \u001b[0;34m\u001b[0m\u001b[0m\n",
            "\u001b[0;32m/usr/local/lib/python3.7/dist-packages/pandas/core/generic.py\u001b[0m in \u001b[0;36mdrop\u001b[0;34m(self, labels, axis, index, columns, level, inplace, errors)\u001b[0m\n\u001b[1;32m   3887\u001b[0m         \u001b[0;32mfor\u001b[0m \u001b[0maxis\u001b[0m\u001b[0;34m,\u001b[0m \u001b[0mlabels\u001b[0m \u001b[0;32min\u001b[0m \u001b[0maxes\u001b[0m\u001b[0;34m.\u001b[0m\u001b[0mitems\u001b[0m\u001b[0;34m(\u001b[0m\u001b[0;34m)\u001b[0m\u001b[0;34m:\u001b[0m\u001b[0;34m\u001b[0m\u001b[0;34m\u001b[0m\u001b[0m\n\u001b[1;32m   3888\u001b[0m             \u001b[0;32mif\u001b[0m \u001b[0mlabels\u001b[0m \u001b[0;32mis\u001b[0m \u001b[0;32mnot\u001b[0m \u001b[0;32mNone\u001b[0m\u001b[0;34m:\u001b[0m\u001b[0;34m\u001b[0m\u001b[0;34m\u001b[0m\u001b[0m\n\u001b[0;32m-> 3889\u001b[0;31m                 \u001b[0mobj\u001b[0m \u001b[0;34m=\u001b[0m \u001b[0mobj\u001b[0m\u001b[0;34m.\u001b[0m\u001b[0m_drop_axis\u001b[0m\u001b[0;34m(\u001b[0m\u001b[0mlabels\u001b[0m\u001b[0;34m,\u001b[0m \u001b[0maxis\u001b[0m\u001b[0;34m,\u001b[0m \u001b[0mlevel\u001b[0m\u001b[0;34m=\u001b[0m\u001b[0mlevel\u001b[0m\u001b[0;34m,\u001b[0m \u001b[0merrors\u001b[0m\u001b[0;34m=\u001b[0m\u001b[0merrors\u001b[0m\u001b[0;34m)\u001b[0m\u001b[0;34m\u001b[0m\u001b[0;34m\u001b[0m\u001b[0m\n\u001b[0m\u001b[1;32m   3890\u001b[0m \u001b[0;34m\u001b[0m\u001b[0m\n\u001b[1;32m   3891\u001b[0m         \u001b[0;32mif\u001b[0m \u001b[0minplace\u001b[0m\u001b[0;34m:\u001b[0m\u001b[0;34m\u001b[0m\u001b[0;34m\u001b[0m\u001b[0m\n",
            "\u001b[0;32m/usr/local/lib/python3.7/dist-packages/pandas/core/generic.py\u001b[0m in \u001b[0;36m_drop_axis\u001b[0;34m(self, labels, axis, level, errors)\u001b[0m\n\u001b[1;32m   3921\u001b[0m                 \u001b[0mnew_axis\u001b[0m \u001b[0;34m=\u001b[0m \u001b[0maxis\u001b[0m\u001b[0;34m.\u001b[0m\u001b[0mdrop\u001b[0m\u001b[0;34m(\u001b[0m\u001b[0mlabels\u001b[0m\u001b[0;34m,\u001b[0m \u001b[0mlevel\u001b[0m\u001b[0;34m=\u001b[0m\u001b[0mlevel\u001b[0m\u001b[0;34m,\u001b[0m \u001b[0merrors\u001b[0m\u001b[0;34m=\u001b[0m\u001b[0merrors\u001b[0m\u001b[0;34m)\u001b[0m\u001b[0;34m\u001b[0m\u001b[0;34m\u001b[0m\u001b[0m\n\u001b[1;32m   3922\u001b[0m             \u001b[0;32melse\u001b[0m\u001b[0;34m:\u001b[0m\u001b[0;34m\u001b[0m\u001b[0;34m\u001b[0m\u001b[0m\n\u001b[0;32m-> 3923\u001b[0;31m                 \u001b[0mnew_axis\u001b[0m \u001b[0;34m=\u001b[0m \u001b[0maxis\u001b[0m\u001b[0;34m.\u001b[0m\u001b[0mdrop\u001b[0m\u001b[0;34m(\u001b[0m\u001b[0mlabels\u001b[0m\u001b[0;34m,\u001b[0m \u001b[0merrors\u001b[0m\u001b[0;34m=\u001b[0m\u001b[0merrors\u001b[0m\u001b[0;34m)\u001b[0m\u001b[0;34m\u001b[0m\u001b[0;34m\u001b[0m\u001b[0m\n\u001b[0m\u001b[1;32m   3924\u001b[0m             \u001b[0mresult\u001b[0m \u001b[0;34m=\u001b[0m \u001b[0mself\u001b[0m\u001b[0;34m.\u001b[0m\u001b[0mreindex\u001b[0m\u001b[0;34m(\u001b[0m\u001b[0;34m**\u001b[0m\u001b[0;34m{\u001b[0m\u001b[0maxis_name\u001b[0m\u001b[0;34m:\u001b[0m \u001b[0mnew_axis\u001b[0m\u001b[0;34m}\u001b[0m\u001b[0;34m)\u001b[0m\u001b[0;34m\u001b[0m\u001b[0;34m\u001b[0m\u001b[0m\n\u001b[1;32m   3925\u001b[0m \u001b[0;34m\u001b[0m\u001b[0m\n",
            "\u001b[0;32m/usr/local/lib/python3.7/dist-packages/pandas/core/indexes/base.py\u001b[0m in \u001b[0;36mdrop\u001b[0;34m(self, labels, errors)\u001b[0m\n\u001b[1;32m   5285\u001b[0m         \u001b[0;32mif\u001b[0m \u001b[0mmask\u001b[0m\u001b[0;34m.\u001b[0m\u001b[0many\u001b[0m\u001b[0;34m(\u001b[0m\u001b[0;34m)\u001b[0m\u001b[0;34m:\u001b[0m\u001b[0;34m\u001b[0m\u001b[0;34m\u001b[0m\u001b[0m\n\u001b[1;32m   5286\u001b[0m             \u001b[0;32mif\u001b[0m \u001b[0merrors\u001b[0m \u001b[0;34m!=\u001b[0m \u001b[0;34m\"ignore\"\u001b[0m\u001b[0;34m:\u001b[0m\u001b[0;34m\u001b[0m\u001b[0;34m\u001b[0m\u001b[0m\n\u001b[0;32m-> 5287\u001b[0;31m                 \u001b[0;32mraise\u001b[0m \u001b[0mKeyError\u001b[0m\u001b[0;34m(\u001b[0m\u001b[0;34mf\"{labels[mask]} not found in axis\"\u001b[0m\u001b[0;34m)\u001b[0m\u001b[0;34m\u001b[0m\u001b[0;34m\u001b[0m\u001b[0m\n\u001b[0m\u001b[1;32m   5288\u001b[0m             \u001b[0mindexer\u001b[0m \u001b[0;34m=\u001b[0m \u001b[0mindexer\u001b[0m\u001b[0;34m[\u001b[0m\u001b[0;34m~\u001b[0m\u001b[0mmask\u001b[0m\u001b[0;34m]\u001b[0m\u001b[0;34m\u001b[0m\u001b[0;34m\u001b[0m\u001b[0m\n\u001b[1;32m   5289\u001b[0m         \u001b[0;32mreturn\u001b[0m \u001b[0mself\u001b[0m\u001b[0;34m.\u001b[0m\u001b[0mdelete\u001b[0m\u001b[0;34m(\u001b[0m\u001b[0mindexer\u001b[0m\u001b[0;34m)\u001b[0m\u001b[0;34m\u001b[0m\u001b[0;34m\u001b[0m\u001b[0m\n",
            "\u001b[0;31mKeyError\u001b[0m: \"['ocorrencia_classificacao_bkp'] not found in axis\""
          ]
        }
      ]
    },
    {
      "cell_type": "code",
      "metadata": {
        "id": "GyqUMux0f24x"
      },
      "source": [
        "# esse erro ocorre que ele tenta excluir a linha e não a coluna\n",
        "# Para isso, teremos que excluir o outro eixo, que por padrão é \n",
        "# o eixo = 0\n",
        "\n",
        "df.drop(['ocorrencia_classificacao_bkp'], axis=1, inplace=True)"
      ],
      "execution_count": 26,
      "outputs": []
    },
    {
      "cell_type": "code",
      "metadata": {
        "id": "DwiMrnBpgilT"
      },
      "source": [
        "# Para excluir as linhas que contiverem valores N/A\n",
        "# Já que não é possível excluir apenas uma célula\n",
        "df.dropna()"
      ],
      "execution_count": null,
      "outputs": []
    },
    {
      "cell_type": "code",
      "metadata": {
        "colab": {
          "base_uri": "https://localhost:8080/",
          "height": 419
        },
        "id": "V6FR39bKlZMS",
        "outputId": "9a0414ab-111c-4b40-e348-3ce3ea7f33f1"
      },
      "source": [
        "# Para não apagar todos os dados, e sim apenas em determinadas tabelas,\n",
        "# filtramos o método\n",
        "df.dropna(subset=['ocorrencia_uf'])"
      ],
      "execution_count": 3,
      "outputs": [
        {
          "output_type": "execute_result",
          "data": {
            "text/html": [
              "<div>\n",
              "<style scoped>\n",
              "    .dataframe tbody tr th:only-of-type {\n",
              "        vertical-align: middle;\n",
              "    }\n",
              "\n",
              "    .dataframe tbody tr th {\n",
              "        vertical-align: top;\n",
              "    }\n",
              "\n",
              "    .dataframe thead th {\n",
              "        text-align: right;\n",
              "    }\n",
              "</style>\n",
              "<table border=\"1\" class=\"dataframe\">\n",
              "  <thead>\n",
              "    <tr style=\"text-align: right;\">\n",
              "      <th></th>\n",
              "      <th>codigo_ocorrencia</th>\n",
              "      <th>codigo_ocorrencia2</th>\n",
              "      <th>ocorrencia_classificacao</th>\n",
              "      <th>ocorrencia_cidade</th>\n",
              "      <th>ocorrencia_uf</th>\n",
              "      <th>ocorrencia_aerodromo</th>\n",
              "      <th>ocorrencia_dia</th>\n",
              "      <th>ocorrencia_hora</th>\n",
              "      <th>total_recomendacoes</th>\n",
              "    </tr>\n",
              "  </thead>\n",
              "  <tbody>\n",
              "    <tr>\n",
              "      <th>0</th>\n",
              "      <td>40211</td>\n",
              "      <td>40211</td>\n",
              "      <td>INCIDENTE</td>\n",
              "      <td>RIO DE JANEIRO</td>\n",
              "      <td>RJ</td>\n",
              "      <td>****</td>\n",
              "      <td>03/01/2010</td>\n",
              "      <td>12:00:00</td>\n",
              "      <td>0</td>\n",
              "    </tr>\n",
              "    <tr>\n",
              "      <th>1</th>\n",
              "      <td>40349</td>\n",
              "      <td>40349</td>\n",
              "      <td>INCIDENTE</td>\n",
              "      <td>BELÉM</td>\n",
              "      <td>PA</td>\n",
              "      <td>SBBE</td>\n",
              "      <td>03/01/2010</td>\n",
              "      <td>11:05:00</td>\n",
              "      <td>0</td>\n",
              "    </tr>\n",
              "    <tr>\n",
              "      <th>2</th>\n",
              "      <td>40351</td>\n",
              "      <td>40351</td>\n",
              "      <td>INCIDENTE</td>\n",
              "      <td>RIO DE JANEIRO</td>\n",
              "      <td>RJ</td>\n",
              "      <td>SBRJ</td>\n",
              "      <td>03/01/2010</td>\n",
              "      <td>03:00:00</td>\n",
              "      <td>0</td>\n",
              "    </tr>\n",
              "    <tr>\n",
              "      <th>3</th>\n",
              "      <td>39527</td>\n",
              "      <td>39527</td>\n",
              "      <td>ACIDENTE</td>\n",
              "      <td>LUCAS DO RIO VERDE</td>\n",
              "      <td>MT</td>\n",
              "      <td>****</td>\n",
              "      <td>04/01/2010</td>\n",
              "      <td>17:30:00</td>\n",
              "      <td>0</td>\n",
              "    </tr>\n",
              "    <tr>\n",
              "      <th>4</th>\n",
              "      <td>40324</td>\n",
              "      <td>40324</td>\n",
              "      <td>INCIDENTE</td>\n",
              "      <td>PELOTAS</td>\n",
              "      <td>RS</td>\n",
              "      <td>SBPK</td>\n",
              "      <td>05/01/2010</td>\n",
              "      <td>19:25:00</td>\n",
              "      <td>0</td>\n",
              "    </tr>\n",
              "    <tr>\n",
              "      <th>...</th>\n",
              "      <td>...</td>\n",
              "      <td>...</td>\n",
              "      <td>...</td>\n",
              "      <td>...</td>\n",
              "      <td>...</td>\n",
              "      <td>...</td>\n",
              "      <td>...</td>\n",
              "      <td>...</td>\n",
              "      <td>...</td>\n",
              "    </tr>\n",
              "    <tr>\n",
              "      <th>5747</th>\n",
              "      <td>79804</td>\n",
              "      <td>79804</td>\n",
              "      <td>INCIDENTE</td>\n",
              "      <td>CAMPINAS</td>\n",
              "      <td>SP</td>\n",
              "      <td>SBKP</td>\n",
              "      <td>29/12/2020</td>\n",
              "      <td>19:00:00</td>\n",
              "      <td>0</td>\n",
              "    </tr>\n",
              "    <tr>\n",
              "      <th>5748</th>\n",
              "      <td>79757</td>\n",
              "      <td>79757</td>\n",
              "      <td>INCIDENTE GRAVE</td>\n",
              "      <td>LAGOA DA CONFUSÃO</td>\n",
              "      <td>TO</td>\n",
              "      <td>****</td>\n",
              "      <td>30/12/2020</td>\n",
              "      <td>18:30:00</td>\n",
              "      <td>0</td>\n",
              "    </tr>\n",
              "    <tr>\n",
              "      <th>5749</th>\n",
              "      <td>79802</td>\n",
              "      <td>79802</td>\n",
              "      <td>INCIDENTE</td>\n",
              "      <td>RIO DE JANEIRO</td>\n",
              "      <td>RJ</td>\n",
              "      <td>SBGL</td>\n",
              "      <td>30/12/2020</td>\n",
              "      <td>00:54:00</td>\n",
              "      <td>0</td>\n",
              "    </tr>\n",
              "    <tr>\n",
              "      <th>5750</th>\n",
              "      <td>79756</td>\n",
              "      <td>79756</td>\n",
              "      <td>INCIDENTE GRAVE</td>\n",
              "      <td>VICENTINA</td>\n",
              "      <td>MS</td>\n",
              "      <td>****</td>\n",
              "      <td>31/12/2020</td>\n",
              "      <td>09:00:00</td>\n",
              "      <td>0</td>\n",
              "    </tr>\n",
              "    <tr>\n",
              "      <th>5751</th>\n",
              "      <td>79844</td>\n",
              "      <td>79844</td>\n",
              "      <td>INCIDENTE</td>\n",
              "      <td>RIO DE JANEIRO</td>\n",
              "      <td>RJ</td>\n",
              "      <td>SBJR</td>\n",
              "      <td>31/12/2020</td>\n",
              "      <td>13:24:00</td>\n",
              "      <td>0</td>\n",
              "    </tr>\n",
              "  </tbody>\n",
              "</table>\n",
              "<p>5752 rows × 9 columns</p>\n",
              "</div>"
            ],
            "text/plain": [
              "      codigo_ocorrencia  ...  total_recomendacoes\n",
              "0                 40211  ...                    0\n",
              "1                 40349  ...                    0\n",
              "2                 40351  ...                    0\n",
              "3                 39527  ...                    0\n",
              "4                 40324  ...                    0\n",
              "...                 ...  ...                  ...\n",
              "5747              79804  ...                    0\n",
              "5748              79757  ...                    0\n",
              "5749              79802  ...                    0\n",
              "5750              79756  ...                    0\n",
              "5751              79844  ...                    0\n",
              "\n",
              "[5752 rows x 9 columns]"
            ]
          },
          "metadata": {
            "tags": []
          },
          "execution_count": 3
        }
      ]
    },
    {
      "cell_type": "code",
      "metadata": {
        "id": "uiRMQUYMmLeq"
      },
      "source": [
        "# Para remover valores duplicadas\n",
        "df.drop_duplicates(inplace=True)"
      ],
      "execution_count": 5,
      "outputs": []
    }
  ]
}